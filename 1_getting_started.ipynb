{
 "cells": [
  {
   "cell_type": "code",
   "execution_count": 1,
   "id": "fc3f15ce-dc43-4250-bf28-810c157d40c5",
   "metadata": {},
   "outputs": [
    {
     "name": "stdout",
     "output_type": "stream",
     "text": [
      "+-----+---+\n",
      "| Name|Age|\n",
      "+-----+---+\n",
      "|Alice| 25|\n",
      "|  Bob| 30|\n",
      "|Cathy| 35|\n",
      "+-----+---+\n",
      "\n"
     ]
    }
   ],
   "source": [
    "from pyspark.sql import SparkSession\n",
    "\n",
    "# Create a SparkSession\n",
    "spark = SparkSession.builder.appName(\"PySpark Test\").getOrCreate()\n",
    "\n",
    "# Create a simple DataFrame\n",
    "data = [(\"Alice\", 25), (\"Bob\", 30), (\"Cathy\", 35)]\n",
    "columns = [\"Name\", \"Age\"]\n",
    "df = spark.createDataFrame(data, columns)\n",
    "\n",
    "# Show the DataFrame\n",
    "df.show()\n"
   ]
  },
  {
   "cell_type": "markdown",
   "id": "5883de2f-4adc-40dd-a642-b2b810f71fba",
   "metadata": {},
   "source": [
    "## Setting up another dataframe"
   ]
  },
  {
   "cell_type": "code",
   "execution_count": 2,
   "id": "1f5feb9a-6d14-4d07-ba61-c9690ce14982",
   "metadata": {},
   "outputs": [
    {
     "name": "stdout",
     "output_type": "stream",
     "text": [
      "+---+\n",
      "|id |\n",
      "+---+\n",
      "|0  |\n",
      "|1  |\n",
      "|2  |\n",
      "|3  |\n",
      "|4  |\n",
      "+---+\n",
      "\n"
     ]
    }
   ],
   "source": [
    "df_range_1 = spark.range(5)\n",
    "df_range_1.show(5, truncate = False)"
   ]
  },
  {
   "cell_type": "code",
   "execution_count": 3,
   "id": "d5547102-c18b-41ce-b905-0f5547791143",
   "metadata": {},
   "outputs": [
    {
     "name": "stdout",
     "output_type": "stream",
     "text": [
      "+---+\n",
      "|id |\n",
      "+---+\n",
      "|1  |\n",
      "|3  |\n",
      "|5  |\n",
      "|7  |\n",
      "|9  |\n",
      "+---+\n",
      "\n"
     ]
    }
   ],
   "source": [
    "df_range_2 = spark.range(start = 1, end = 10, step = 2)\n",
    "df_range_2.show(10, False)"
   ]
  },
  {
   "cell_type": "code",
   "execution_count": 4,
   "id": "5301f32d-0f25-4cab-a2a0-7531597f1ceb",
   "metadata": {},
   "outputs": [
    {
     "name": "stdout",
     "output_type": "stream",
     "text": [
      "root\n",
      " |-- id: string (nullable = true)\n",
      " |-- name: string (nullable = true)\n",
      "\n",
      "+---+----+\n",
      "|id |name|\n",
      "+---+----+\n",
      "|1  |Sam |\n",
      "|2  |Liam|\n",
      "|3  |Josh|\n",
      "|4  |NULL|\n",
      "+---+----+\n",
      "\n"
     ]
    }
   ],
   "source": [
    "_data = [\n",
    " [\"1\", \"Sam\"],\n",
    " [\"2\", \"Liam\"],\n",
    " [\"3\", \"Josh\"],\n",
    " [\"4\", None]\n",
    " ]\n",
    "# Create the list of column names\n",
    "_cols = [\"id\", \"name\"]\n",
    "\n",
    "# Create Data Frame using the createDataFrame method\n",
    "df_users = spark.createDataFrame(data = _data, schema=_cols)\n",
    "df_users.printSchema()\n",
    "\n",
    "# Check Data Frame\n",
    "df_users.show(truncate=False)"
   ]
  },
  {
   "cell_type": "markdown",
   "id": "5b728cc6-94ef-4151-b2dd-bb0c9b2253db",
   "metadata": {},
   "source": [
    "### Converting into RDD and then to DF"
   ]
  },
  {
   "cell_type": "code",
   "execution_count": 5,
   "id": "2f94e99f-5901-4400-b9d3-15769f7db7d0",
   "metadata": {},
   "outputs": [
    {
     "data": {
      "text/plain": [
       "16"
      ]
     },
     "execution_count": 5,
     "metadata": {},
     "output_type": "execute_result"
    }
   ],
   "source": [
    "_data_rdd = spark.sparkContext.parallelize(_data)\n",
    "_data_rdd.collect()\n",
    "\n",
    "_data_rdd.getNumPartitions()"
   ]
  },
  {
   "cell_type": "code",
   "execution_count": 6,
   "id": "264e0517-c9b1-457f-8db0-b535d094637c",
   "metadata": {},
   "outputs": [
    {
     "name": "stdout",
     "output_type": "stream",
     "text": [
      "+---+----+\n",
      "| id|name|\n",
      "+---+----+\n",
      "|  1| Sam|\n",
      "|  2|Liam|\n",
      "|  3|Josh|\n",
      "|  4|NULL|\n",
      "+---+----+\n",
      "\n"
     ]
    }
   ],
   "source": [
    "df_users_new = _data_rdd.toDF(_cols)\n",
    "df_users_new.show()"
   ]
  },
  {
   "cell_type": "markdown",
   "id": "ac977f97-94cb-4469-a52c-e61e95e1166e",
   "metadata": {},
   "source": [
    "### Creating datatype schema from string"
   ]
  },
  {
   "cell_type": "code",
   "execution_count": 7,
   "id": "8b22889a-29ad-402d-bec7-885ab0db538e",
   "metadata": {},
   "outputs": [
    {
     "name": "stdout",
     "output_type": "stream",
     "text": [
      "StructType([StructField('id', IntegerType(), True), StructField('name', StringType(), True)])\n"
     ]
    }
   ],
   "source": [
    "from pyspark.sql.types import _parse_datatype_string\n",
    "# Create new Schema for data\n",
    "_schema_str = \"id int, name string\"\n",
    "_schema = _parse_datatype_string(_schema_str)\n",
    "print(_schema)"
   ]
  },
  {
   "cell_type": "code",
   "execution_count": 8,
   "id": "1d4829ad-7248-40ca-ad7f-f221feaf4b34",
   "metadata": {},
   "outputs": [],
   "source": [
    "_schema_str2 = \"id int not null, name double,subjects string\"\n",
    "_schema2 = _parse_datatype_string(_schema_str2)"
   ]
  },
  {
   "cell_type": "code",
   "execution_count": 9,
   "id": "0c22425a-dc92-4cf2-8810-969d69963aa8",
   "metadata": {},
   "outputs": [
    {
     "name": "stdout",
     "output_type": "stream",
     "text": [
      "StructType([StructField('id', IntegerType(), False), StructField('name', DoubleType(), True), StructField('subjects', StringType(), True)])\n"
     ]
    }
   ],
   "source": [
    "print(_schema2)"
   ]
  },
  {
   "cell_type": "markdown",
   "id": "a97c1641-8d1c-402d-abd2-bd9426bed5b3",
   "metadata": {},
   "source": [
    "### Converting map or arryas into schema"
   ]
  },
  {
   "cell_type": "code",
   "execution_count": 10,
   "id": "85c13cc6-89ad-46dc-8515-5d410e56d662",
   "metadata": {},
   "outputs": [
    {
     "name": "stdout",
     "output_type": "stream",
     "text": [
      "StructType([StructField('id', IntegerType(), True), StructField('name', MapType(StringType(), StringType(), True), True), StructField('subject', ArrayType(StringType(), True), True)])\n"
     ]
    }
   ],
   "source": [
    "_schema_str3 = \"id int, name map<string, string>, subject array<string>\"\n",
    "_schema3 = _parse_datatype_string(_schema_str3)\n",
    "print(_schema3)"
   ]
  }
 ],
 "metadata": {
  "kernelspec": {
   "display_name": "Python 3 (ipykernel)",
   "language": "python",
   "name": "python3"
  },
  "language_info": {
   "codemirror_mode": {
    "name": "ipython",
    "version": 3
   },
   "file_extension": ".py",
   "mimetype": "text/x-python",
   "name": "python",
   "nbconvert_exporter": "python",
   "pygments_lexer": "ipython3",
   "version": "3.11.6"
  }
 },
 "nbformat": 4,
 "nbformat_minor": 5
}
