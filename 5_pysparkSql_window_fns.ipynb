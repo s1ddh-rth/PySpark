{
 "cells": [
  {
   "cell_type": "code",
   "execution_count": 12,
   "id": "6dfed51a-5cb6-447a-a7c9-eb8bc12754ad",
   "metadata": {},
   "outputs": [],
   "source": [
    "from pyspark.sql import SparkSession\n"
   ]
  },
  {
   "cell_type": "code",
   "execution_count": 18,
   "id": "12d3c20f-a318-40b1-b088-5279ae13a5c3",
   "metadata": {},
   "outputs": [],
   "source": [
    "spark = (\n",
    "    SparkSession\n",
    "    .builder\n",
    "    .appName(\"Unique Data and some pyspark sql window functions\")\n",
    "    .master(\"local[*]\")\n",
    "    .getOrCreate()\n",
    "    )"
   ]
  },
  {
   "cell_type": "code",
   "execution_count": 19,
   "id": "b6c0cfde-cdf3-4f03-b386-878044c01f52",
   "metadata": {},
   "outputs": [
    {
     "data": {
      "text/html": [
       "\n",
       "            <div>\n",
       "                <p><b>SparkSession - in-memory</b></p>\n",
       "                \n",
       "        <div>\n",
       "            <p><b>SparkContext</b></p>\n",
       "\n",
       "            <p><a href=\"http://473b1d0a86da:4040\">Spark UI</a></p>\n",
       "\n",
       "            <dl>\n",
       "              <dt>Version</dt>\n",
       "                <dd><code>v3.5.0</code></dd>\n",
       "              <dt>Master</dt>\n",
       "                <dd><code>local[*]</code></dd>\n",
       "              <dt>AppName</dt>\n",
       "                <dd><code>Unique Data and some pyspark sql window functions</code></dd>\n",
       "            </dl>\n",
       "        </div>\n",
       "        \n",
       "            </div>\n",
       "        "
      ],
      "text/plain": [
       "<pyspark.sql.session.SparkSession at 0x7f09bf7bc210>"
      ]
     },
     "execution_count": 19,
     "metadata": {},
     "output_type": "execute_result"
    }
   ],
   "source": [
    "spark"
   ]
  },
  {
   "cell_type": "code",
   "execution_count": 20,
   "id": "e8d7bd92-92b0-467b-b6c6-6e151a2b1c6b",
   "metadata": {},
   "outputs": [],
   "source": [
    "emp_data = [\n",
    "    [\"001\",\"101\",\"John Doe\",\"30\",\"Male\",\"50000\",\"2015-01-01\"],\n",
    "    [\"002\",\"101\",\"Jane Smith\",\"25\",\"Female\",\"45000\",\"2016-02-15\"],\n",
    "    [\"003\",\"102\",\"Bob Brown\",\"35\",\"Male\",\"55000\",\"2014-05-01\"],\n",
    "    [\"004\",\"102\",\"Alice Lee\",\"28\",\"Female\",\"48000\",\"2017-09-30\"],\n",
    "    [\"005\",\"103\",\"Jack Chan\",\"40\",\"Male\",\"60000\",\"2013-04-01\"],\n",
    "    [\"006\",\"103\",\"Jill Wong\",\"32\",\"Female\",\"52000\",\"2018-07-01\"],\n",
    "    [\"007\",\"101\",\"James Johnson\",\"42\",\"Male\",\"70000\",\"2012-03-15\"],\n",
    "    [\"008\",\"102\",\"Kate Kim\",\"29\",\"Female\",\"51000\",\"2019-10-01\"],\n",
    "    [\"009\",\"103\",\"Tom Tan\",\"33\",\"Male\",\"58000\",\"2016-06-01\"],\n",
    "    [\"010\",\"104\",\"Lisa Lee\",\"27\",\"Female\",\"47000\",\"2018-08-01\"],\n",
    "    [\"011\",\"104\",\"David Park\",\"38\",\"Male\",\"65000\",\"2015-11-01\"],\n",
    "    [\"012\",\"105\",\"Susan Chen\",\"31\",\"Female\",\"54000\",\"2017-02-15\"],\n",
    "    [\"013\",\"106\",\"Brian Kim\",\"45\",\"Male\",\"75000\",\"2011-07-01\"],\n",
    "    [\"014\",\"107\",\"Emily Lee\",\"26\",\"Female\",\"46000\",\"2019-01-01\"],\n",
    "    [\"015\",\"106\",\"Michael Lee\",\"37\",\"Male\",\"63000\",\"2014-09-30\"],\n",
    "    [\"016\",\"107\",\"Kelly Zhang\",\"30\",\"Female\",\"49000\",\"2018-04-01\"],\n",
    "    [\"017\",\"105\",\"George Wang\",\"34\",\"Male\",\"57000\",\"2016-03-15\"],\n",
    "    [\"018\",\"104\",\"Nancy Liu\",\"29\",\"\",\"50000\",\"2017-06-01\"],\n",
    "    [\"019\",\"103\",\"Steven Chen\",\"36\",\"Male\",\"62000\",\"2015-08-01\"],\n",
    "    [\"020\",\"102\",\"Grace Kim\",\"32\",\"Female\",\"53000\",\"2018-11-01\"]\n",
    "]\n",
    "\n",
    "emp_schema = \"employee_id string, department_id string, name string, age string, gender string, salary string, hire_date string\""
   ]
  },
  {
   "cell_type": "code",
   "execution_count": 23,
   "id": "833761d5-0168-426b-8d73-8bc41c0d7599",
   "metadata": {},
   "outputs": [],
   "source": [
    "emp = spark.createDataFrame(data = emp_data, schema = emp_schema)"
   ]
  },
  {
   "cell_type": "code",
   "execution_count": 25,
   "id": "296b49a8-7e91-4048-b491-bc190e3fac73",
   "metadata": {},
   "outputs": [],
   "source": [
    "emp_dist = emp.distinct()"
   ]
  },
  {
   "cell_type": "code",
   "execution_count": 26,
   "id": "1d8133c6-9418-40a7-8141-386ec412f892",
   "metadata": {},
   "outputs": [
    {
     "name": "stdout",
     "output_type": "stream",
     "text": [
      "+-----------+-------------+-------------+---+------+------+----------+\n",
      "|employee_id|department_id|         name|age|gender|salary| hire_date|\n",
      "+-----------+-------------+-------------+---+------+------+----------+\n",
      "|        001|          101|     John Doe| 30|  Male| 50000|2015-01-01|\n",
      "|        002|          101|   Jane Smith| 25|Female| 45000|2016-02-15|\n",
      "|        003|          102|    Bob Brown| 35|  Male| 55000|2014-05-01|\n",
      "|        005|          103|    Jack Chan| 40|  Male| 60000|2013-04-01|\n",
      "|        004|          102|    Alice Lee| 28|Female| 48000|2017-09-30|\n",
      "|        006|          103|    Jill Wong| 32|Female| 52000|2018-07-01|\n",
      "|        007|          101|James Johnson| 42|  Male| 70000|2012-03-15|\n",
      "|        008|          102|     Kate Kim| 29|Female| 51000|2019-10-01|\n",
      "|        010|          104|     Lisa Lee| 27|Female| 47000|2018-08-01|\n",
      "|        009|          103|      Tom Tan| 33|  Male| 58000|2016-06-01|\n",
      "|        011|          104|   David Park| 38|  Male| 65000|2015-11-01|\n",
      "|        012|          105|   Susan Chen| 31|Female| 54000|2017-02-15|\n",
      "|        013|          106|    Brian Kim| 45|  Male| 75000|2011-07-01|\n",
      "|        015|          106|  Michael Lee| 37|  Male| 63000|2014-09-30|\n",
      "|        014|          107|    Emily Lee| 26|Female| 46000|2019-01-01|\n",
      "|        016|          107|  Kelly Zhang| 30|Female| 49000|2018-04-01|\n",
      "|        017|          105|  George Wang| 34|  Male| 57000|2016-03-15|\n",
      "|        018|          104|    Nancy Liu| 29|      | 50000|2017-06-01|\n",
      "|        019|          103|  Steven Chen| 36|  Male| 62000|2015-08-01|\n",
      "|        020|          102|    Grace Kim| 32|Female| 53000|2018-11-01|\n",
      "+-----------+-------------+-------------+---+------+------+----------+\n",
      "\n"
     ]
    }
   ],
   "source": [
    "emp_dist.show()"
   ]
  },
  {
   "cell_type": "code",
   "execution_count": 30,
   "id": "5e8774bb-48be-4e20-a3c2-3e4918826212",
   "metadata": {},
   "outputs": [],
   "source": [
    "from pyspark.sql.functions import col"
   ]
  },
  {
   "cell_type": "code",
   "execution_count": 33,
   "id": "b365630a-1dd2-4efd-aee3-0f1ec241c96b",
   "metadata": {},
   "outputs": [],
   "source": [
    "emp_dept_id = emp.select(\"department_id\").distinct()"
   ]
  },
  {
   "cell_type": "code",
   "execution_count": 34,
   "id": "29a3c44b-7965-4e13-bbd8-32f3be25c2b6",
   "metadata": {},
   "outputs": [
    {
     "name": "stdout",
     "output_type": "stream",
     "text": [
      "+-------------+\n",
      "|department_id|\n",
      "+-------------+\n",
      "|          101|\n",
      "|          102|\n",
      "|          103|\n",
      "|          104|\n",
      "|          105|\n",
      "|          106|\n",
      "|          107|\n",
      "+-------------+\n",
      "\n"
     ]
    }
   ],
   "source": [
    "emp_dept_id.show()"
   ]
  },
  {
   "cell_type": "code",
   "execution_count": 37,
   "id": "724300ff-0e1e-4d58-955d-99efdbedb05e",
   "metadata": {},
   "outputs": [],
   "source": [
    "from pyspark.sql.window import Window\n",
    "from pyspark.sql.functions import max, col, desc\n",
    "\n",
    "window_spec = Window.partitionBy(col(\"department_id\")).orderBy(col(\"salary\").desc())\n",
    "max_fun = max(col(\"salary\")).over(window_spec)\n",
    "\n",
    "emp1 = emp.withColumn(\"max_salary\", max_fun)"
   ]
  },
  {
   "cell_type": "code",
   "execution_count": 39,
   "id": "880138ea-07ce-4369-828d-6d120701f7bc",
   "metadata": {},
   "outputs": [
    {
     "name": "stdout",
     "output_type": "stream",
     "text": [
      "+-----------+-------------+-------------+---+------+------+----------+----------+\n",
      "|employee_id|department_id|         name|age|gender|salary| hire_date|max_salary|\n",
      "+-----------+-------------+-------------+---+------+------+----------+----------+\n",
      "|        007|          101|James Johnson| 42|  Male| 70000|2012-03-15|     70000|\n",
      "|        001|          101|     John Doe| 30|  Male| 50000|2015-01-01|     70000|\n",
      "|        002|          101|   Jane Smith| 25|Female| 45000|2016-02-15|     70000|\n",
      "|        003|          102|    Bob Brown| 35|  Male| 55000|2014-05-01|     55000|\n",
      "|        020|          102|    Grace Kim| 32|Female| 53000|2018-11-01|     55000|\n",
      "+-----------+-------------+-------------+---+------+------+----------+----------+\n",
      "only showing top 5 rows\n",
      "\n"
     ]
    }
   ],
   "source": [
    "emp1.show(5)"
   ]
  },
  {
   "cell_type": "code",
   "execution_count": 40,
   "id": "c48ce3b0-893f-48ae-beac-7601e151e5f2",
   "metadata": {},
   "outputs": [],
   "source": [
    "from pyspark.sql.functions import row_number, desc, col"
   ]
  },
  {
   "cell_type": "code",
   "execution_count": 46,
   "id": "d9be5de7-5502-4daf-8689-38a2268e2460",
   "metadata": {},
   "outputs": [],
   "source": [
    "window_spec = Window.partitionBy(col(\"department_id\")).orderBy(col(\"salary\").desc())\n",
    "\n",
    "rn = row_number().over(window_spec)\n",
    "\n",
    "emp2 = emp.withColumn(\"row_number\", rn).where(\"row_number = 2\")"
   ]
  },
  {
   "cell_type": "code",
   "execution_count": 47,
   "id": "b7ea3181-7e75-4de1-9642-f6904b82ff3f",
   "metadata": {},
   "outputs": [
    {
     "name": "stdout",
     "output_type": "stream",
     "text": [
      "+-----------+-------------+-----------+---+------+------+----------+----------+\n",
      "|employee_id|department_id|       name|age|gender|salary| hire_date|row_number|\n",
      "+-----------+-------------+-----------+---+------+------+----------+----------+\n",
      "|        001|          101|   John Doe| 30|  Male| 50000|2015-01-01|         2|\n",
      "|        020|          102|  Grace Kim| 32|Female| 53000|2018-11-01|         2|\n",
      "|        005|          103|  Jack Chan| 40|  Male| 60000|2013-04-01|         2|\n",
      "|        018|          104|  Nancy Liu| 29|      | 50000|2017-06-01|         2|\n",
      "|        012|          105| Susan Chen| 31|Female| 54000|2017-02-15|         2|\n",
      "|        015|          106|Michael Lee| 37|  Male| 63000|2014-09-30|         2|\n",
      "|        014|          107|  Emily Lee| 26|Female| 46000|2019-01-01|         2|\n",
      "+-----------+-------------+-----------+---+------+------+----------+----------+\n",
      "\n"
     ]
    }
   ],
   "source": [
    "emp2.show()"
   ]
  },
  {
   "cell_type": "code",
   "execution_count": 48,
   "id": "3c60bb82-6bcd-4199-bd4b-c7e4d940aad1",
   "metadata": {},
   "outputs": [],
   "source": [
    "# usign expr\n",
    "\n",
    "from pyspark.sql.functions import expr\n",
    "\n",
    "emp3 = emp.withColumn(\"rn\", expr(\"row_number() over(partition by department_id order by salary desc)\"))"
   ]
  },
  {
   "cell_type": "code",
   "execution_count": 49,
   "id": "f52658d0-6e83-4d5c-91c4-82d5b3fed154",
   "metadata": {},
   "outputs": [
    {
     "name": "stdout",
     "output_type": "stream",
     "text": [
      "+-----------+-------------+-------------+---+------+------+----------+---+\n",
      "|employee_id|department_id|         name|age|gender|salary| hire_date| rn|\n",
      "+-----------+-------------+-------------+---+------+------+----------+---+\n",
      "|        007|          101|James Johnson| 42|  Male| 70000|2012-03-15|  1|\n",
      "|        001|          101|     John Doe| 30|  Male| 50000|2015-01-01|  2|\n",
      "|        002|          101|   Jane Smith| 25|Female| 45000|2016-02-15|  3|\n",
      "|        003|          102|    Bob Brown| 35|  Male| 55000|2014-05-01|  1|\n",
      "|        020|          102|    Grace Kim| 32|Female| 53000|2018-11-01|  2|\n",
      "|        008|          102|     Kate Kim| 29|Female| 51000|2019-10-01|  3|\n",
      "|        004|          102|    Alice Lee| 28|Female| 48000|2017-09-30|  4|\n",
      "|        019|          103|  Steven Chen| 36|  Male| 62000|2015-08-01|  1|\n",
      "|        005|          103|    Jack Chan| 40|  Male| 60000|2013-04-01|  2|\n",
      "|        009|          103|      Tom Tan| 33|  Male| 58000|2016-06-01|  3|\n",
      "|        006|          103|    Jill Wong| 32|Female| 52000|2018-07-01|  4|\n",
      "|        011|          104|   David Park| 38|  Male| 65000|2015-11-01|  1|\n",
      "|        018|          104|    Nancy Liu| 29|      | 50000|2017-06-01|  2|\n",
      "|        010|          104|     Lisa Lee| 27|Female| 47000|2018-08-01|  3|\n",
      "|        017|          105|  George Wang| 34|  Male| 57000|2016-03-15|  1|\n",
      "|        012|          105|   Susan Chen| 31|Female| 54000|2017-02-15|  2|\n",
      "|        013|          106|    Brian Kim| 45|  Male| 75000|2011-07-01|  1|\n",
      "|        015|          106|  Michael Lee| 37|  Male| 63000|2014-09-30|  2|\n",
      "|        016|          107|  Kelly Zhang| 30|Female| 49000|2018-04-01|  1|\n",
      "|        014|          107|    Emily Lee| 26|Female| 46000|2019-01-01|  2|\n",
      "+-----------+-------------+-------------+---+------+------+----------+---+\n",
      "\n"
     ]
    }
   ],
   "source": [
    "emp3.show()"
   ]
  },
  {
   "cell_type": "code",
   "execution_count": null,
   "id": "99639f5c-0fda-4209-9d4d-9fb667291103",
   "metadata": {},
   "outputs": [],
   "source": []
  }
 ],
 "metadata": {
  "kernelspec": {
   "display_name": "Python 3 (ipykernel)",
   "language": "python",
   "name": "python3"
  },
  "language_info": {
   "codemirror_mode": {
    "name": "ipython",
    "version": 3
   },
   "file_extension": ".py",
   "mimetype": "text/x-python",
   "name": "python",
   "nbconvert_exporter": "python",
   "pygments_lexer": "ipython3",
   "version": "3.11.6"
  }
 },
 "nbformat": 4,
 "nbformat_minor": 5
}
