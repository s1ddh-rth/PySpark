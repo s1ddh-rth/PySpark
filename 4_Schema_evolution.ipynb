{
 "cells": [
  {
   "cell_type": "code",
   "execution_count": 1,
   "id": "21271130-54a7-41e7-81b3-bcec15991fed",
   "metadata": {},
   "outputs": [],
   "source": [
    "from pyspark.sql import SparkSession\n",
    "from pyspark.sql.types import StructType, StructField, StringType, IntegerType\n",
    "\n",
    "# Initialize Spark Session\n",
    "spark = SparkSession.builder \\\n",
    "    .appName(\"Schema Evolution Example\") \\\n",
    "    .getOrCreate()"
   ]
  },
  {
   "cell_type": "code",
   "execution_count": 8,
   "id": "50697002-9a80-425a-819d-8974ee280f51",
   "metadata": {},
   "outputs": [],
   "source": [
    "# can get in api data as well\n",
    "_data = [\n",
    "['EMP001', '{\"dept\" : \"account\", \"fname\": \"Ramesh\", \"lname\":\"Singh\", \"skills\": [\"excel\", \"tally\", \"word\"]}'],\n",
    "['EMP002', '{\"dept\" : \"sales\", \"fname\": \"Siv\", \"lname\": \"Kumar\", \"skills\": [\"biking\", \"sales\"]}'],\n",
    "['EMP003', '{\"dept\" : \"hr\", \"fname\": \"MS Raghvan\", \"skills\": [\"communication\", \"soft-skills\"]}']\n",
    "]"
   ]
  },
  {
   "cell_type": "code",
   "execution_count": 10,
   "id": "147cbce8-e11c-4e07-b346-a79d1664f842",
   "metadata": {},
   "outputs": [
    {
     "name": "stdout",
     "output_type": "stream",
     "text": [
      "root\n",
      " |-- emp_no: string (nullable = true)\n",
      " |-- raw_data: string (nullable = true)\n",
      "\n",
      "+------+----------------------------------------------------------------------------------------------+\n",
      "|emp_no|raw_data                                                                                      |\n",
      "+------+----------------------------------------------------------------------------------------------+\n",
      "|EMP001|{\"dept\" : \"account\", \"fname\": \"Ramesh\", \"lname\":\"Singh\", \"skills\": [\"excel\", \"tally\", \"word\"]}|\n",
      "|EMP002|{\"dept\" : \"sales\", \"fname\": \"Siv\", \"lname\": \"Kumar\", \"skills\": [\"biking\", \"sales\"]}           |\n",
      "|EMP003|{\"dept\" : \"hr\", \"fname\": \"MS Raghvan\", \"skills\": [\"communication\", \"soft-skills\"]}            |\n",
      "+------+----------------------------------------------------------------------------------------------+\n",
      "\n"
     ]
    }
   ],
   "source": [
    "# Columns for the data\n",
    "_cols = ['emp_no', 'raw_data']\n",
    "\n",
    "df_raw = spark.createDataFrame(data = _data, schema = _cols)\n",
    "df_raw.printSchema()\n",
    "df_raw.show(3, False)"
   ]
  },
  {
   "cell_type": "code",
   "execution_count": 13,
   "id": "b8cf7ea4-d3c4-4172-aadf-7281c8dc6aeb",
   "metadata": {},
   "outputs": [],
   "source": [
    "json_schema_df = spark.read.json(df_raw.rdd.map(lambda row:row.raw_data))\n",
    "json_schema = json_schema_df.schema"
   ]
  },
  {
   "cell_type": "code",
   "execution_count": 14,
   "id": "7fa97133-7089-4f9e-832f-66b51c0df858",
   "metadata": {},
   "outputs": [
    {
     "name": "stdout",
     "output_type": "stream",
     "text": [
      "root\n",
      " |-- emp_no: string (nullable = true)\n",
      " |-- parsed_data: struct (nullable = true)\n",
      " |    |-- dept: string (nullable = true)\n",
      " |    |-- fname: string (nullable = true)\n",
      " |    |-- lname: string (nullable = true)\n",
      " |    |-- skills: array (nullable = true)\n",
      " |    |    |-- element: string (containsNull = true)\n",
      "\n"
     ]
    }
   ],
   "source": [
    "# Apply the schema to payload to read the data\n",
    "from pyspark.sql.functions import from_json\n",
    "df_details = df_raw.withColumn(\"parsed_data\", from_json(df_raw[\"raw_data\"], json_schema)).drop(\"raw_data\")\n",
    "df_details.printSchema()"
   ]
  },
  {
   "cell_type": "code",
   "execution_count": 16,
   "id": "d2f8727b-da4e-449b-b323-a3510cb39253",
   "metadata": {},
   "outputs": [
    {
     "name": "stdout",
     "output_type": "stream",
     "text": [
      "+------+-------+----------+-----+----------------------------+\n",
      "|emp_no|dept   |fname     |lname|skills                      |\n",
      "+------+-------+----------+-----+----------------------------+\n",
      "|EMP001|account|Ramesh    |Singh|[excel, tally, word]        |\n",
      "|EMP002|sales  |Siv       |Kumar|[biking, sales]             |\n",
      "|EMP003|hr     |MS Raghvan|NULL |[communication, soft-skills]|\n",
      "+------+-------+----------+-----+----------------------------+\n",
      "\n"
     ]
    }
   ],
   "source": [
    "# Lets verify the data\n",
    "df_details.select(\"emp_no\", \"parsed_data.*\").show(10, False)"
   ]
  },
  {
   "cell_type": "code",
   "execution_count": 17,
   "id": "27530ea8-f3f7-48d3-8f21-f5e56d79553b",
   "metadata": {},
   "outputs": [
    {
     "name": "stdout",
     "output_type": "stream",
     "text": [
      "+------+-------+----------+-----+-------------+\n",
      "|emp_no|dept   |fname     |lname|skills       |\n",
      "+------+-------+----------+-----+-------------+\n",
      "|EMP001|account|Ramesh    |Singh|excel        |\n",
      "|EMP001|account|Ramesh    |Singh|tally        |\n",
      "|EMP001|account|Ramesh    |Singh|word         |\n",
      "|EMP002|sales  |Siv       |Kumar|biking       |\n",
      "|EMP002|sales  |Siv       |Kumar|sales        |\n",
      "|EMP003|hr     |MS Raghvan|NULL |communication|\n",
      "|EMP003|hr     |MS Raghvan|NULL |soft-skills  |\n",
      "+------+-------+----------+-----+-------------+\n",
      "\n"
     ]
    }
   ],
   "source": [
    "# We can explode the data further from list\n",
    "from pyspark.sql.functions import explode\n",
    "df_details.select(\"emp_no\", \"parsed_data.dept\", \"parsed_data.fname\", \n",
    "\"parsed_data.lname\", \"parsed_data\") \\\n",
    ".withColumn(\"skills\", explode(\"parsed_data.skills\")) \\\n",
    ".drop(\"parsed_data\") \\\n",
    ".show(100, False)"
   ]
  },
  {
   "cell_type": "code",
   "execution_count": 31,
   "id": "c05b22bc-9c89-4e40-8b3c-1fdc42aacf46",
   "metadata": {},
   "outputs": [],
   "source": [
    "from pyspark.sql.functions import lit\n",
    "\n",
    "def process_and_merge_data(existing_df, new_data):\n",
    "    \"\"\"\n",
    "    Process and merge new data into an existing DataFrame with schema evolution.\n",
    "\n",
    "    Args:\n",
    "    existing_df (DataFrame): Existing processed DataFrame.\n",
    "    new_data (list): New data rows to append.\n",
    "\n",
    "    Returns:\n",
    "    DataFrame: Updated DataFrame with new data processed.\n",
    "    \"\"\"\n",
    "    # Create a DataFrame for the new data\n",
    "    new_df_raw = spark.createDataFrame(new_data, [\"emp_no\", \"raw_data\"])\n",
    "\n",
    "    # Infer schema dynamically for the new data\n",
    "    inferred_schema_df = spark.read.json(new_df_raw.rdd.map(lambda row: row.raw_data))\n",
    "    inferred_schema = inferred_schema_df.schema\n",
    "\n",
    "    # Parse new data with inferred schema\n",
    "    new_df_processed = new_df_raw.withColumn(\n",
    "        \"parsed_data\",\n",
    "        from_json(new_df_raw[\"raw_data\"], inferred_schema)\n",
    "    ).drop(\"raw_data\")\n",
    "\n",
    "    # If existing_df is not None, align schemas\n",
    "    if existing_df is not None:\n",
    "        # Get the list of columns in the existing and new DataFrames\n",
    "        existing_columns = set(existing_df.columns)\n",
    "        new_columns = set(new_df_processed.columns)\n",
    "\n",
    "        # Add missing columns to existing DataFrame\n",
    "        for col in new_columns - existing_columns:\n",
    "            existing_df = existing_df.withColumn(col, lit(None))\n",
    "\n",
    "        # Add missing columns to new DataFrame\n",
    "        for col in existing_columns - new_columns:\n",
    "            new_df_processed = new_df_processed.withColumn(col, lit(None))\n",
    "\n",
    "        # Perform union with aligned schemas\n",
    "        combined_df = existing_df.unionByName(new_df_processed, allowMissingColumns=True)\n",
    "    else:\n",
    "        # If no existing DataFrame, return new DataFrame\n",
    "        combined_df = new_df_processed\n",
    "\n",
    "    return combined_df\n"
   ]
  },
  {
   "cell_type": "code",
   "execution_count": 32,
   "id": "78b3a7b4-d7f4-490d-ba74-54eed3a78da1",
   "metadata": {},
   "outputs": [
    {
     "name": "stdout",
     "output_type": "stream",
     "text": [
      "+------+----------------------------------------------------+\n",
      "|emp_no|parsed_data                                         |\n",
      "+------+----------------------------------------------------+\n",
      "|EMP001|{account, Ramesh, Singh, [excel, tally, word]}      |\n",
      "|EMP002|{sales, Siv, Kumar, [biking, sales]}                |\n",
      "|EMP003|{hr, MS Raghvan, NULL, [communication, soft-skills]}|\n",
      "+------+----------------------------------------------------+\n",
      "\n"
     ]
    }
   ],
   "source": [
    "# Initialize an empty DataFrame (initial load)\n",
    "df_existing = None\n",
    "\n",
    "# Old data\n",
    "_data = [\n",
    "    ['EMP001', '{\"dept\" : \"account\", \"fname\": \"Ramesh\", \"lname\":\"Singh\", \"skills\": [\"excel\", \"tally\", \"word\"]}'],\n",
    "    ['EMP002', '{\"dept\" : \"sales\", \"fname\": \"Siv\", \"lname\": \"Kumar\", \"skills\": [\"biking\", \"sales\"]}'],\n",
    "    ['EMP003', '{\"dept\" : \"hr\", \"fname\": \"MS Raghvan\", \"skills\": [\"communication\", \"soft-skills\"]}']\n",
    "]\n",
    "df_existing = process_and_merge_data(df_existing, _data)\n",
    "\n",
    "df_existing.show(truncate=False)"
   ]
  },
  {
   "cell_type": "code",
   "execution_count": 34,
   "id": "ffbc982a-a54f-407a-be15-f316eee7a33c",
   "metadata": {},
   "outputs": [],
   "source": [
    "\n",
    "# # New data\n",
    "# new_data = [\n",
    "#     ['EMP001', '{\"dept\" : \"account\", \"fname\": \"Ramesh\", \"age\": 30, \"skills\": {\"primary\": \"excel\", \"secondary\": \"tally\"}}'],\n",
    "#     ['EMP002', '{\"dept\" : \"sales\", \"fname\": \"Siv\", \"age\": 25, \"details\": {\"city\": \"Mumbai\", \"zip\": \"400001\"}}'],\n",
    "#     ['EMP003', '{\"dept\" : \"hr\", \"fname\": \"MS Raghvan\", \"skills\": {\"primary\": \"soft-skills\"}}']\n",
    "# ]\n",
    "# df_existing = process_and_merge_data(df_existing, new_data)\n",
    "\n",
    "# # Display the final DataFrame\n",
    "# df_existing.printSchema()\n",
    "# df_existing.show(truncate=False)"
   ]
  }
 ],
 "metadata": {
  "kernelspec": {
   "display_name": "Python 3 (ipykernel)",
   "language": "python",
   "name": "python3"
  },
  "language_info": {
   "codemirror_mode": {
    "name": "ipython",
    "version": 3
   },
   "file_extension": ".py",
   "mimetype": "text/x-python",
   "name": "python",
   "nbconvert_exporter": "python",
   "pygments_lexer": "ipython3",
   "version": "3.11.6"
  }
 },
 "nbformat": 4,
 "nbformat_minor": 5
}
