{
 "cells": [
  {
   "cell_type": "code",
   "execution_count": 1,
   "id": "9566a173-dabd-40e4-bf21-93d761046f90",
   "metadata": {},
   "outputs": [],
   "source": [
    "from pyspark.sql import SparkSession"
   ]
  },
  {
   "cell_type": "code",
   "execution_count": 2,
   "id": "b60b3848-a212-485c-b3bf-d2cb1ef3b6bf",
   "metadata": {},
   "outputs": [],
   "source": [
    "spark = SparkSession.builder.appName(\"Infer Schema example\").getOrCreate()"
   ]
  },
  {
   "cell_type": "code",
   "execution_count": 3,
   "id": "0652ffc5-761f-4c20-a477-a7e84f69429e",
   "metadata": {},
   "outputs": [],
   "source": [
    "json_file_path = \"./2_kafka.json\"\n",
    "df = spark.read.option(\"multiLine\", True).json(json_file_path)"
   ]
  },
  {
   "cell_type": "code",
   "execution_count": 4,
   "id": "d3091b3e-bca6-4bf0-ac0a-3bdc0b7f6e32",
   "metadata": {},
   "outputs": [
    {
     "name": "stdout",
     "output_type": "stream",
     "text": [
      "root\n",
      " |-- messages: array (nullable = true)\n",
      " |    |-- element: struct (containsNull = true)\n",
      " |    |    |-- age: long (nullable = true)\n",
      " |    |    |-- country: string (nullable = true)\n",
      " |    |    |-- email: string (nullable = true)\n",
      " |    |    |-- id: long (nullable = true)\n",
      " |    |    |-- name: string (nullable = true)\n",
      "\n"
     ]
    }
   ],
   "source": [
    "df.printSchema()"
   ]
  },
  {
   "cell_type": "code",
   "execution_count": null,
   "id": "36ebce09-c4d0-44be-b1ca-ee21dfd0709d",
   "metadata": {},
   "outputs": [],
   "source": []
  }
 ],
 "metadata": {
  "kernelspec": {
   "display_name": "Python 3 (ipykernel)",
   "language": "python",
   "name": "python3"
  },
  "language_info": {
   "codemirror_mode": {
    "name": "ipython",
    "version": 3
   },
   "file_extension": ".py",
   "mimetype": "text/x-python",
   "name": "python",
   "nbconvert_exporter": "python",
   "pygments_lexer": "ipython3",
   "version": "3.11.6"
  }
 },
 "nbformat": 4,
 "nbformat_minor": 5
}
