{
 "cells": [
  {
   "cell_type": "code",
   "execution_count": 4,
   "id": "45d27ae7-4663-4b4b-8d99-c4c6947619d6",
   "metadata": {},
   "outputs": [],
   "source": [
    "import requests, json\n",
    "from pyspark.sql import SparkSession\n",
    "\n",
    "spark = SparkSession.builder.appName(\"PySpark API Test\").getOrCreate()\n",
    "\n",
    "def read_api(url: str):\n",
    "    normalized_data = dict()\n",
    "    data = requests.get(api_url).json() \n",
    "    normalized_data[\"_data\"] = data \n",
    "    return json.dumps(normalized_data)"
   ]
  },
  {
   "cell_type": "code",
   "execution_count": 5,
   "id": "d0d65740-253e-4eb8-8d39-b7f3110c7d2b",
   "metadata": {},
   "outputs": [],
   "source": [
    " api_url = r\"https://api.coindesk.com/v1/bpi/currentprice.json\""
   ]
  },
  {
   "cell_type": "code",
   "execution_count": 3,
   "id": "b39734cf-b5ea-4d27-9b65-f709674c1d2b",
   "metadata": {},
   "outputs": [
    {
     "name": "stdout",
     "output_type": "stream",
     "text": [
      "root\n",
      " |-- _data: struct (nullable = true)\n",
      " |    |-- bpi: struct (nullable = true)\n",
      " |    |    |-- EUR: struct (nullable = true)\n",
      " |    |    |    |-- code: string (nullable = true)\n",
      " |    |    |    |-- description: string (nullable = true)\n",
      " |    |    |    |-- rate: string (nullable = true)\n",
      " |    |    |    |-- rate_float: double (nullable = true)\n",
      " |    |    |    |-- symbol: string (nullable = true)\n",
      " |    |    |-- GBP: struct (nullable = true)\n",
      " |    |    |    |-- code: string (nullable = true)\n",
      " |    |    |    |-- description: string (nullable = true)\n",
      " |    |    |    |-- rate: string (nullable = true)\n",
      " |    |    |    |-- rate_float: double (nullable = true)\n",
      " |    |    |    |-- symbol: string (nullable = true)\n",
      " |    |    |-- USD: struct (nullable = true)\n",
      " |    |    |    |-- code: string (nullable = true)\n",
      " |    |    |    |-- description: string (nullable = true)\n",
      " |    |    |    |-- rate: string (nullable = true)\n",
      " |    |    |    |-- rate_float: double (nullable = true)\n",
      " |    |    |    |-- symbol: string (nullable = true)\n",
      " |    |-- chartName: string (nullable = true)\n",
      " |    |-- disclaimer: string (nullable = true)\n",
      " |    |-- time: struct (nullable = true)\n",
      " |    |    |-- updated: string (nullable = true)\n",
      " |    |    |-- updatedISO: string (nullable = true)\n",
      " |    |    |-- updateduk: string (nullable = true)\n",
      "\n"
     ]
    }
   ],
   "source": [
    "payload = json.loads(read_api(api_url))\n",
    "payload_rdd = spark.sparkContext.parallelize([payload])\n",
    "\n",
    "df = spark.read.json(payload_rdd)\n",
    "df.select(\"_data\").printSchema()"
   ]
  },
  {
   "cell_type": "code",
   "execution_count": 6,
   "id": "0e0d8b0d-6591-42d1-acbc-3b9c963dd17d",
   "metadata": {},
   "outputs": [
    {
     "name": "stdout",
     "output_type": "stream",
     "text": [
      "+-------------------------------------------------------------------------------------------------------------------------------------------------------------------------+---------+-----------------------------------------------------------------------------------------------------------------------------------------------------------+-------------------------------------------------------------------------------+\n",
      "|bpi                                                                                                                                                                      |chartName|disclaimer                                                                                                                                                 |time                                                                           |\n",
      "+-------------------------------------------------------------------------------------------------------------------------------------------------------------------------+---------+-----------------------------------------------------------------------------------------------------------------------------------------------------------+-------------------------------------------------------------------------------+\n",
      "|{{EUR, Euro, 94,705.848, 94705.8484, &euro;}, {GBP, British Pound Sterling, 78,724.519, 78724.5185, &pound;}, {USD, United States Dollar, 98,716.605, 98716.6054, &#36;}}|Bitcoin  |This data was produced from the CoinDesk Bitcoin Price Index (USD). Non-USD currency data converted using hourly conversion rate from openexchangerates.org|{Jan 5, 2025 10:57:30 UTC, 2025-01-05T10:57:30+00:00, Jan 5, 2025 at 10:57 GMT}|\n",
      "+-------------------------------------------------------------------------------------------------------------------------------------------------------------------------+---------+-----------------------------------------------------------------------------------------------------------------------------------------------------------+-------------------------------------------------------------------------------+\n",
      "\n"
     ]
    }
   ],
   "source": [
    " # Expand root element to read Struct Data\n",
    " df.select(\"_data.*\").show(truncate=False)"
   ]
  },
  {
   "cell_type": "code",
   "execution_count": 8,
   "id": "fb0904a4-8031-4947-9d1f-c54f539681c8",
   "metadata": {},
   "outputs": [
    {
     "name": "stdout",
     "output_type": "stream",
     "text": [
      "+----+--------------------+----------+----------+------+\n",
      "|code|description         |rate      |rate_float|symbol|\n",
      "+----+--------------------+----------+----------+------+\n",
      "|USD |United States Dollar|98,716.605|98716.6054|&#36; |\n",
      "+----+--------------------+----------+----------+------+\n",
      "\n"
     ]
    }
   ],
   "source": [
    "df.select(\"_data.*\").select(\"bpi.*\").select(\"USD.*\").show(truncate=False)"
   ]
  }
 ],
 "metadata": {
  "kernelspec": {
   "display_name": "Python 3 (ipykernel)",
   "language": "python",
   "name": "python3"
  },
  "language_info": {
   "codemirror_mode": {
    "name": "ipython",
    "version": 3
   },
   "file_extension": ".py",
   "mimetype": "text/x-python",
   "name": "python",
   "nbconvert_exporter": "python",
   "pygments_lexer": "ipython3",
   "version": "3.11.6"
  }
 },
 "nbformat": 4,
 "nbformat_minor": 5
}
